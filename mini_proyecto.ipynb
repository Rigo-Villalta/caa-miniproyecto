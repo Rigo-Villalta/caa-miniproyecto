{
 "cells": [
  {
   "cell_type": "markdown",
   "metadata": {},
   "source": [
    "### Enunciado de mini proyecto\n",
    "\n",
    "Utilizando el método del gradiente descendente (método de Cauchy) se le pide que encuentre el punto donde se minimice el error establecido por la función descrita a continuación:\n",
    "\n",
    "__Grupo 5__\n",
    "\n",
    "Aplicando una iteración del método del gradiente para:\n",
    "\n",
    "$$ Min: ln( x^2 + y^2 ), donde P_0 = (3, 4)$$\n",
    "\n",
    "Concluya y justifique: ¿Qué puede concluir con los resultados obtenidos? ¿Cómo interpretan una posible solución al error mínimo?"
   ]
  },
  {
   "cell_type": "markdown",
   "metadata": {},
   "source": [
    "### Analisis matématico de la función\n",
    "\n",
    "Como introducción a la resolución de este problema, tenemos que tener en cuenta que es un logaritmo, un logaritmo natural, para poder entender como tener una solución aproximada adecuada.\n",
    "\n",
    "Un logaritmo es un número real positivo *n* con una base *b* y un resultado *x*, del cual se dice que debemos elevar *b* al exponente *x* para obtener *n*:\n",
    "\n",
    "$$ log_b (n) = x \\therefore b^x = n $$\n",
    "\n",
    "El Logaritmo natural es un logaritmo con base en el número *e*, este es un irracional aproximado a a 2.718282, que al igual que otros número irracionales puede tener una cantidad infinita de decimales:\n",
    "\n",
    "$$ ln_{e} (n) x \\therefore e^x = n $$\n",
    "\n",
    "Una de las aplicaciones más conocidas de *e* es encontrar el área bajo la curva de la función 1/x"
   ]
  },
  {
   "cell_type": "code",
   "execution_count": 20,
   "metadata": {},
   "outputs": [
    {
     "data": {
      "image/png": "[encoded data removed]",
      "text/plain": [
       "<Figure size 300x300 with 1 Axes>"
      ]
     },
     "metadata": {},
     "output_type": "display_data"
    }
   ],
   "source": [
    "from math import e\n",
    "from matplotlib import pyplot\n",
    "from numpy import arange\n",
    "\n",
    "def uno_sobre_x(x):\n",
    "    return 1/x\n",
    "\n",
    "\n",
    "eje_x = arange(0.25 , 4, 0.1)\n",
    "eje_y = uno_sobre_x(eje_x)\n",
    "\n",
    "plot_uno_sobre_x = pyplot.figure(figsize=(3,3),) \n",
    "pyplot.plot(eje_x, eje_y)\n",
    "pyplot.fill_between(eje_x, eje_y, where= (eje_x >= 1) & (eje_x <= e), color=\"orange\" )\n",
    "pyplot.axvline(0, color=\"gray\")\n",
    "pyplot.axhline(0, color=\"gray\")\n",
    "pyplot.show()"
   ]
  },
  {
   "cell_type": "markdown",
   "metadata": {},
   "source": [
    "Sabemos que para cualquier número real si este es elevado a la cero, nos da uno, por lo tanto:\n",
    "\n",
    "$$ e^0 = 1 $$\n",
    "\n",
    "Por lo cual los logaritmos naturales del interválos entre ]0, 1[, son negativos:\n",
    "\n",
    "$$ e^{-0.5} = \\frac{1}{e^{0.5}} \\approx 0.60653 $$\n",
    "\n",
    "Y por lo tanto el logaritmo natural no está definido para  0 ó número negativos, ya que no podemos obtener negativos de elevar o cero de elevar un real positivo a cualquier potencia."
   ]
  },
  {
   "cell_type": "markdown",
   "metadata": {},
   "source": [
    "### Método de descenso del gradiente\n",
    "\n",
    "Sabemos de las clases teóricas que si tenemos una función multivariable su gradientes es la suma de las derivadas parciales en los componentes respectivos, por ejemplo para una función de dos variables independientes:\n",
    "\n",
    "$$ ∇𝑓 = 𝑓_x (𝑥, 𝑦)𝑖̂+ 𝑓_y(𝑥, 𝑦)𝑗̂= {𝜕𝑓 \\over 𝜕𝑥 𝑖̂} + {𝜕𝑓 \\over 𝜕𝑦 𝑗̂} $$\n",
    "\n",
    "Dado que las derivadas representan la pendiente de una función y la gradiente es la suma de estos componentes, el vector resultante no puede brindar la dirección hacia donde se dirige un máximo local de una función, así mismo, para localizar el mínimo local de una función podemos ocupar el negativo de la gradiente.\n",
    "\n",
    "Por tanto podemos movernos en el gradiente negativo de una función, partiendo de un punto x0, nuestro nuevo punto x1 sería:\n",
    "\n",
    "$$ x1 = x0 - \\alpha ∇𝑓(x_0) $$\n"
   ]
  }
 ],
 "metadata": {
  "kernelspec": {
   "display_name": "venv",
   "language": "python",
   "name": "python3"
  },
  "language_info": {
   "codemirror_mode": {
    "name": "ipython",
    "version": 3
   },
   "file_extension": ".py",
   "mimetype": "text/x-python",
   "name": "python",
   "nbconvert_exporter": "python",
   "pygments_lexer": "ipython3",
   "version": "3.10.12"
  }
 },
 "nbformat": 4,
 "nbformat_minor": 2
}
