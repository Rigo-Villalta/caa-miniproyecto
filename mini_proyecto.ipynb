{
 "cells": [
  {
   "cell_type": "markdown",
   "metadata": {},
   "source": [
    "### Enunciado de mini proyecto\n",
    "\n",
    "Utilizando el método del gradiente descendente (método de Cauchy) se le pide que encuentre el punto donde se minimice el error establecido por la función descrita a continuación:\n",
    "\n",
    "__Grupo 5__\n",
    "\n",
    "Aplicando una iteración del método del gradiente para:\n",
    "\n",
    "$$ Min: ln( x^2 + y^2 ), donde P_0 = (3, 4)$$\n",
    "\n",
    "Concluya y justifique: ¿Qué puede concluir con los resultados obtenidos? ¿Cómo interpretan una posible solución al error mínimo?"
   ]
  },
  {
   "cell_type": "markdown",
   "metadata": {},
   "source": [
    "### Analisis matématico de la función\n",
    "\n"
   ]
  }
 ],
 "metadata": {
  "language_info": {
   "name": "python"
  }
 },
 "nbformat": 4,
 "nbformat_minor": 2
}
